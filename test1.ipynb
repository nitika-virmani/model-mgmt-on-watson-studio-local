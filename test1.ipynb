{
    "cells": [
        {
            "metadata": {},
            "cell_type": "code",
            "source": "\nimport os, types\nimport pandas as pd\nfrom botocore.client import Config\nimport ibm_boto3\n\ndef __iter__(self): return 0\n\n# @hidden_cell\n# The following code accesses a file in your IBM Cloud Object Storage. It includes your credentials.\n# You might want to remove those credentials before you share the notebook.\ncos_client = ibm_boto3.client(service_name='s3',\n    ibm_api_key_id='rzp4ZC7-SC2bhITkkWux-izDjry0m_SlM08xVb4AtTZk',\n    ibm_auth_endpoint=\"https://iam.cloud.ibm.com/oidc/token\",\n    config=Config(signature_version='oauth'),\n    endpoint_url='https://s3.private.us.cloud-object-storage.appdomain.cloud')\n\nbucket = 'testv1-donotdelete-pr-wypk6jajdbkd3y'\nobject_key = 'customer_churn.csv'\n\nbody = cos_client.get_object(Bucket=bucket,Key=object_key)['Body']\n# add missing __iter__ method, so pandas accepts body as file-like object\nif not hasattr(body, \"__iter__\"): body.__iter__ = types.MethodType( __iter__, body )\n\ndf_data_1 = pd.read_csv(body)\ndf_data_1.head()\n",
            "execution_count": 1,
            "outputs": [
                {
                    "output_type": "execute_result",
                    "execution_count": 1,
                    "data": {
                        "text/plain": "  Gender Status  Children  Est Income Car Owner  Age  AvgMonthlySpend  \\\n0      M      S       1.0     57626.9         Y   43            38.96   \n1      F      M       1.0     57063.0         Y   52            81.30   \n2      M      S       2.0    100020.0         N   50           293.24   \n3      F      M       2.0     84789.3         N   50            10.45   \n4      M      M       1.0     97180.4         N   50            45.66   \n\n   CustomerSupportCalls Paymethod  MembershipPlan CHURN  \n0                   0.0        CC             2.0     F  \n1                   0.0        CH             4.0     F  \n2                   0.0        CH             4.0     T  \n3                   0.0        CH             4.0     T  \n4                   0.0        CC             4.0     T  ",
                        "text/html": "<div>\n<style scoped>\n    .dataframe tbody tr th:only-of-type {\n        vertical-align: middle;\n    }\n\n    .dataframe tbody tr th {\n        vertical-align: top;\n    }\n\n    .dataframe thead th {\n        text-align: right;\n    }\n</style>\n<table border=\"1\" class=\"dataframe\">\n  <thead>\n    <tr style=\"text-align: right;\">\n      <th></th>\n      <th>Gender</th>\n      <th>Status</th>\n      <th>Children</th>\n      <th>Est Income</th>\n      <th>Car Owner</th>\n      <th>Age</th>\n      <th>AvgMonthlySpend</th>\n      <th>CustomerSupportCalls</th>\n      <th>Paymethod</th>\n      <th>MembershipPlan</th>\n      <th>CHURN</th>\n    </tr>\n  </thead>\n  <tbody>\n    <tr>\n      <th>0</th>\n      <td>M</td>\n      <td>S</td>\n      <td>1.0</td>\n      <td>57626.9</td>\n      <td>Y</td>\n      <td>43</td>\n      <td>38.96</td>\n      <td>0.0</td>\n      <td>CC</td>\n      <td>2.0</td>\n      <td>F</td>\n    </tr>\n    <tr>\n      <th>1</th>\n      <td>F</td>\n      <td>M</td>\n      <td>1.0</td>\n      <td>57063.0</td>\n      <td>Y</td>\n      <td>52</td>\n      <td>81.30</td>\n      <td>0.0</td>\n      <td>CH</td>\n      <td>4.0</td>\n      <td>F</td>\n    </tr>\n    <tr>\n      <th>2</th>\n      <td>M</td>\n      <td>S</td>\n      <td>2.0</td>\n      <td>100020.0</td>\n      <td>N</td>\n      <td>50</td>\n      <td>293.24</td>\n      <td>0.0</td>\n      <td>CH</td>\n      <td>4.0</td>\n      <td>T</td>\n    </tr>\n    <tr>\n      <th>3</th>\n      <td>F</td>\n      <td>M</td>\n      <td>2.0</td>\n      <td>84789.3</td>\n      <td>N</td>\n      <td>50</td>\n      <td>10.45</td>\n      <td>0.0</td>\n      <td>CH</td>\n      <td>4.0</td>\n      <td>T</td>\n    </tr>\n    <tr>\n      <th>4</th>\n      <td>M</td>\n      <td>M</td>\n      <td>1.0</td>\n      <td>97180.4</td>\n      <td>N</td>\n      <td>50</td>\n      <td>45.66</td>\n      <td>0.0</td>\n      <td>CC</td>\n      <td>4.0</td>\n      <td>T</td>\n    </tr>\n  </tbody>\n</table>\n</div>"
                    },
                    "metadata": {}
                }
            ]
        },
        {
            "metadata": {},
            "cell_type": "code",
            "source": "",
            "execution_count": null,
            "outputs": []
        }
    ],
    "metadata": {
        "kernelspec": {
            "name": "python3",
            "display_name": "Python 3.10",
            "language": "python"
        },
        "language_info": {
            "name": "python",
            "version": "3.10.6",
            "mimetype": "text/x-python",
            "codemirror_mode": {
                "name": "ipython",
                "version": 3
            },
            "pygments_lexer": "ipython3",
            "nbconvert_exporter": "python",
            "file_extension": ".py"
        }
    },
    "nbformat": 4,
    "nbformat_minor": 1
}